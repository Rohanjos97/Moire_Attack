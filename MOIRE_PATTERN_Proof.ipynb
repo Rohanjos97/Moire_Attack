{
 "cells": [
  {
   "cell_type": "markdown",
   "metadata": {
    "id": "Sx5ch3Iw4gt0"
   },
   "source": [
    "PROOF : As the value of moire pattern increases or we can the complexity of morie pattern increases the model will more misclassify"
   ]
  },
  {
   "cell_type": "code",
   "execution_count": 16,
   "metadata": {
    "colab": {
     "base_uri": "https://localhost:8080/",
     "height": 406
    },
    "id": "Z8suhOI76qHX",
    "outputId": "1927ef40-8cb7-4330-86ad-b04093888ce4"
   },
   "outputs": [
    {
     "data": {
      "image/png": "[encoded data removed]",
      "text/plain": [
       "<Figure size 640x480 with 1 Axes>"
      ]
     },
     "metadata": {},
     "output_type": "display_data"
    }
   ],
   "source": [
    "import numpy as np\n",
    "import matplotlib.pyplot as plt\n",
    "\n",
    "# Create a grid of x and y values\n",
    "x, y = np.meshgrid(np.linspace(-1, 1, 100), np.linspace(-1, 1, 100))\n",
    "\n",
    "# Define two sine waves with slightly different frequencies and phases\n",
    "w1 = np.sin(0.9*np.pi*x + 0.1*np.pi*y)\n",
    "w2 = np.sin(0.6*np.pi*x + 0.2*np.pi*y)\n",
    "\n",
    "# Combine the two waves to create a moiré pattern\n",
    "moire = w1 + w2\n",
    "\n",
    "# Display the pattern using Matplotlib\n",
    "plt.imshow(moire, cmap='gray')\n",
    "plt.axis('off')\n",
    "plt.show()\n"
   ]
  },
  {
   "cell_type": "code",
   "execution_count": 6,
   "metadata": {
    "colab": {
     "base_uri": "https://localhost:8080/"
    },
    "id": "x8EAOAFx1de1",
    "outputId": "a23066a2-c168-4e95-82a6-0e5e737cf880"
   },
   "outputs": [
    {
     "name": "stdout",
     "output_type": "stream",
     "text": [
      "Epoch 1/5\n",
      "938/938 [==============================] - 65s 68ms/step - loss: 0.1749 - accuracy: 0.9450 - val_loss: 0.0440 - val_accuracy: 0.9850\n",
      "Epoch 2/5\n",
      "938/938 [==============================] - 62s 66ms/step - loss: 0.0487 - accuracy: 0.9847 - val_loss: 0.0506 - val_accuracy: 0.9850\n",
      "Epoch 3/5\n",
      "938/938 [==============================] - 64s 68ms/step - loss: 0.0336 - accuracy: 0.9896 - val_loss: 0.0481 - val_accuracy: 0.9859\n",
      "Epoch 4/5\n",
      "938/938 [==============================] - 61s 65ms/step - loss: 0.0250 - accuracy: 0.9921 - val_loss: 0.0605 - val_accuracy: 0.9823\n",
      "Epoch 5/5\n",
      "938/938 [==============================] - 62s 67ms/step - loss: 0.0201 - accuracy: 0.9938 - val_loss: 0.0343 - val_accuracy: 0.9907\n",
      "313/313 [==============================] - 3s 10ms/step - loss: 0.1020 - accuracy: 0.9671\n",
      "313/313 [==============================] - 4s 14ms/step - loss: 0.0343 - accuracy: 0.9907\n",
      "Test accuracy (original images): 0.9907000064849854\n",
      "Test accuracy (images with moiré patterns): 0.9671000242233276\n"
     ]
    }
   ],
   "source": [
    "import numpy as np\n",
    "import cv2\n",
    "from tensorflow.keras.datasets import mnist\n",
    "from tensorflow.keras.models import Sequential\n",
    "from tensorflow.keras.layers import Conv2D, MaxPooling2D, Flatten, Dense\n",
    "from tensorflow.keras.utils import to_categorical\n",
    "\n",
    "# Load the MNIST dataset\n",
    "(train_images, train_labels), (test_images, test_labels) = mnist.load_data()\n",
    "\n",
    "# Reshape the images to fit the CNN input\n",
    "train_images = train_images.reshape((60000, 28, 28, 1))\n",
    "train_images = train_images.astype('float32') / 255\n",
    "test_images = test_images.reshape((10000, 28, 28, 1))\n",
    "test_images = test_images.astype('float32') / 255\n",
    "\n",
    "# One-hot encode the labels\n",
    "train_labels = to_categorical(train_labels)\n",
    "test_labels = to_categorical(test_labels)\n",
    "\n",
    "# Define the CNN model\n",
    "model = Sequential()\n",
    "model.add(Conv2D(32, (3, 3), activation='relu', input_shape=(28, 28, 1)))\n",
    "model.add(MaxPooling2D((2, 2)))\n",
    "model.add(Conv2D(64, (3, 3), activation='relu'))\n",
    "model.add(MaxPooling2D((2, 2)))\n",
    "model.add(Conv2D(64, (3, 3), activation='relu'))\n",
    "model.add(Flatten())\n",
    "model.add(Dense(64, activation='relu'))\n",
    "model.add(Dense(10, activation='softmax'))\n",
    "\n",
    "# Compile the model\n",
    "model.compile(optimizer='rmsprop',\n",
    "              loss='categorical_crossentropy',\n",
    "              metrics=['accuracy'])\n",
    "\n",
    "# Train the model on the original images\n",
    "model.fit(train_images, train_labels, epochs=5, batch_size=64, validation_data=(test_images, test_labels))\n",
    "\n",
    "# Define a moiré pattern generator\n",
    "def generate_moire_pattern(img, freq=10, phase=2.5, amp=0.2):\n",
    "    x, y = np.meshgrid(np.arange(img.shape[1]), np.arange(img.shape[0]))\n",
    "    moire_pattern = amp * np.sin(freq*np.pi*x + phase*np.pi*y)\n",
    "    return img + moire_pattern[..., np.newaxis]\n",
    "\n",
    "# Apply moiré pattern to the test images\n",
    "test_images_moire = np.array([generate_moire_pattern(img) for img in test_images])\n",
    "\n",
    "# Evaluate the model on the test images with moiré patterns\n",
    "test_loss_moire, test_acc_moire = model.evaluate(test_images_moire, test_labels)\n",
    "\n",
    "# Evaluate the model on the original test images\n",
    "test_loss, test_acc = model.evaluate(test_images, test_labels)\n",
    "\n",
    "print(f'Test accuracy (original images): {test_acc}')\n",
    "print(f'Test accuracy (images with moiré patterns): {test_acc_moire}')\n"
   ]
  },
  {
   "cell_type": "code",
   "execution_count": 18,
   "metadata": {
    "id": "NWEpsA_88MOH"
   },
   "outputs": [],
   "source": [
    "from PIL import Image, ImageDraw\n",
    "import math\n",
    "# Set the size of the pattern\n",
    "width, height = 400, 400\n",
    "\n",
    "# Create a new image and draw a white background\n",
    "image = Image.new(\"RGB\", (width, height), (255, 255, 255))\n",
    "draw = ImageDraw.Draw(image)\n",
    "\n",
    "# Set the frequency and amplitude of the pattern\n",
    "frequency = 10\n",
    "amplitude = 10\n",
    "\n",
    "# Draw the moiré pattern\n",
    "for y in range(height):\n",
    "    for x in range(width):\n",
    "        pixel = int(255 * (1 + amplitude * (x * y) / (width * height) * \n",
    "                          math.sin(frequency * x))) % 255\n",
    "        draw.point((x, y), (pixel, pixel, pixel))\n",
    "\n",
    "# Save the image as a PNG file\n",
    "image.save(\"moire_pattern.png\")\n"
   ]
  },
  {
   "cell_type": "code",
   "execution_count": 19,
   "metadata": {
    "colab": {
     "base_uri": "https://localhost:8080/"
    },
    "id": "wF0BaWeX-IiQ",
    "outputId": "84537507-8109-4c63-82b2-67d9293cd85e"
   },
   "outputs": [
    {
     "name": "stdout",
     "output_type": "stream",
     "text": [
      "Epoch 1/5\n",
      "938/938 [==============================] - 102s 65ms/step - loss: 0.6130 - accuracy: 0.8504 - val_loss: 0.0781 - val_accuracy: 0.9786\n",
      "Epoch 2/5\n",
      "938/938 [==============================] - 60s 64ms/step - loss: 0.1553 - accuracy: 0.9568 - val_loss: 0.0580 - val_accuracy: 0.9821\n",
      "Epoch 3/5\n",
      "938/938 [==============================] - 67s 71ms/step - loss: 0.1084 - accuracy: 0.9699 - val_loss: 0.0446 - val_accuracy: 0.9865\n",
      "Epoch 4/5\n",
      "938/938 [==============================] - 61s 65ms/step - loss: 0.0887 - accuracy: 0.9746 - val_loss: 0.0415 - val_accuracy: 0.9872\n",
      "Epoch 5/5\n",
      "938/938 [==============================] - 61s 65ms/step - loss: 0.0754 - accuracy: 0.9777 - val_loss: 0.0414 - val_accuracy: 0.9881\n",
      "313/313 [==============================] - 3s 10ms/step - loss: 0.0414 - accuracy: 0.9881\n",
      "Accuracy on original test images: 98.81%\n",
      "313/313 [==============================] - 4s 12ms/step - loss: 2.6541 - accuracy: 0.0949\n",
      "Accuracy on moiré test images: 9.49%\n"
     ]
    }
   ],
   "source": [
    "import numpy as np\n",
    "from PIL import Image, ImageDraw\n",
    "from keras.datasets import mnist\n",
    "from keras.utils import np_utils\n",
    "from keras.models import Sequential\n",
    "from keras.layers import Dense, Dropout, Flatten, Conv2D, MaxPooling2D\n",
    "\n",
    "# Load the MNIST dataset and reshape the images\n",
    "(X_train, y_train), (X_test, y_test) = mnist.load_data()\n",
    "X_train = np.expand_dims(X_train, axis=3)\n",
    "X_test = np.expand_dims(X_test, axis=3)\n",
    "\n",
    "# One-hot encode the labels\n",
    "y_train = np_utils.to_categorical(y_train, 10)\n",
    "y_test = np_utils.to_categorical(y_test, 10)\n",
    "\n",
    "# Set the size of the moiré pattern\n",
    "width, height = 28, 28\n",
    "\n",
    "# Create a new image and draw the moiré pattern\n",
    "moire = Image.new(\"L\", (width, height))\n",
    "draw = ImageDraw.Draw(moire)\n",
    "\n",
    "# Set the frequency and amplitude of the pattern\n",
    "frequency = 10\n",
    "amplitude = 10\n",
    "\n",
    "# Draw the moiré pattern\n",
    "for y in range(height):\n",
    "    for x in range(width):\n",
    "        pixel = int(255 * (1 + amplitude * (x * y) / (width * height) * \n",
    "                          np.sin(frequency * x))) % 255\n",
    "        draw.point((x, y), pixel)\n",
    "\n",
    "# Convert the moiré pattern to a numpy array\n",
    "moire = np.array(moire)\n",
    "\n",
    "# Apply the moiré pattern to the test images\n",
    "X_test_moire = np.clip(X_test + moire.reshape(1, 28, 28, 1), 0, 255)\n",
    "\n",
    "# Define the CNN model architecture\n",
    "model = Sequential()\n",
    "model.add(Conv2D(32, (3, 3), activation='relu', input_shape=(28, 28, 1)))\n",
    "model.add(MaxPooling2D(pool_size=(2, 2)))\n",
    "model.add(Conv2D(64, (3, 3), activation='relu'))\n",
    "model.add(MaxPooling2D(pool_size=(2, 2)))\n",
    "model.add(Flatten())\n",
    "model.add(Dense(128, activation='relu'))\n",
    "model.add(Dropout(0.5))\n",
    "model.add(Dense(10, activation='softmax'))\n",
    "\n",
    "# Compile the model\n",
    "model.compile(loss='categorical_crossentropy', optimizer='adam', metrics=['accuracy'])\n",
    "\n",
    "# Train the model on the original images\n",
    "model.fit(X_train, y_train, epochs=5, batch_size=64, validation_data=(X_test, y_test))\n",
    "\n",
    "# Evaluate the model on the original images\n",
    "_, acc_original = model.evaluate(X_test, y_test)\n",
    "print(f\"Accuracy on original test images: {acc_original*100:.2f}%\")\n",
    "\n",
    "# Evaluate the model on the moiré images\n",
    "_, acc_moire = model.evaluate(X_test_moire, y_test)\n",
    "print(f\"Accuracy on moiré test images: {acc_moire*100:.2f}%\")\n"
   ]
  },
  {
   "cell_type": "code",
   "execution_count": 20,
   "metadata": {
    "colab": {
     "base_uri": "https://localhost:8080/",
     "height": 290
    },
    "id": "oySgZ4FC_yUO",
    "outputId": "75fc0bb9-1fdb-4db3-c13b-86ec29a9d754"
   },
   "outputs": [
    {
     "data": {
      "image/png": "[encoded data removed]",
      "text/plain": [
       "<Figure size 1000x300 with 10 Axes>"
      ]
     },
     "metadata": {},
     "output_type": "display_data"
    }
   ],
   "source": [
    "example_indices = [0, 1, 2, 3, 4]\n",
    "example_images = test_images[example_indices]\n",
    "example_images_moire = np.array([generate_moire_pattern(img) for img in example_images])\n",
    "\n",
    "# Display some example images with and without moiré patterns\n",
    "fig, axs = plt.subplots(2, len(example_indices), figsize=(10, 3))\n",
    "for i in range(len(example_indices)):\n",
    "    axs[0, i].imshow(example_images[i, :, :, 0], cmap='gray')\n",
    "    axs[0, i].axis('off')\n",
    "    axs[0, i].set_title(f'Original {example_indices[i]}')\n",
    "    axs[1, i].imshow(example_images_moire[i, :, :, 0], cmap='gray')\n",
    "    axs[1, i].axis('off')\n",
    "    axs[1, i].set_title(f'With moiré {example_indices[i]}')\n",
    "plt.show()"
   ]
  }
 ],
 "metadata": {
  "colab": {
   "provenance": []
  },
  "kernelspec": {
   "display_name": "Python 3 (ipykernel)",
   "language": "python",
   "name": "python3"
  },
  "language_info": {
   "codemirror_mode": {
    "name": "ipython",
    "version": 3
   },
   "file_extension": ".py",
   "mimetype": "text/x-python",
   "name": "python",
   "nbconvert_exporter": "python",
   "pygments_lexer": "ipython3",
   "version": "3.11.2"
  }
 },
 "nbformat": 4,
 "nbformat_minor": 1
}
